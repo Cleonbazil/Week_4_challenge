{
 "cells": [
  {
   "cell_type": "markdown",
   "id": "dc0318d6",
   "metadata": {},
   "source": [
    "## Part 1: Explore the Data\n",
    "\n",
    "Import the data and use Pandas to learn more about the dataset."
   ]
  },
  {
   "cell_type": "code",
   "execution_count": 153,
   "id": "a611586a-3cb8-42cd-a91b-4e7f0dcb82b9",
   "metadata": {},
   "outputs": [],
   "source": [
    "import pandas as pd\n",
    "import os\n",
    "import datetime as dt"
   ]
  },
  {
   "cell_type": "markdown",
   "id": "e0b20936-00bc-4f81-bffb-60beada695e2",
   "metadata": {},
   "source": [
    "##### CSV file directory"
   ]
  },
  {
   "cell_type": "code",
   "execution_count": 154,
   "id": "523cc687-35b7-4a02-8ea5-724291acc8c3",
   "metadata": {},
   "outputs": [
    {
     "data": {
      "text/plain": [
       "'C:\\\\Users\\\\Chris\\\\Desktop\\\\Columbia\\\\Week_4\\\\Week_4_challenge'"
      ]
     },
     "execution_count": 154,
     "metadata": {},
     "output_type": "execute_result"
    }
   ],
   "source": [
    "os.getcwd()"
   ]
  },
  {
   "cell_type": "code",
   "execution_count": 155,
   "id": "183408b6-fc7b-4c61-a1b8-4ac294f087df",
   "metadata": {},
   "outputs": [],
   "source": [
    "path = 'C:\\\\Users\\\\Chris\\\\Desktop\\\\Columbia\\\\Week_4\\\\Week_4_challenge\\\\Resources\\\\client_dataset.csv'"
   ]
  },
  {
   "cell_type": "markdown",
   "id": "bb62c3d6-b098-415e-a445-12e4c514b591",
   "metadata": {},
   "source": [
    "#### Data Import"
   ]
  },
  {
   "cell_type": "code",
   "execution_count": 156,
   "id": "ce412ab2-6143-45d6-96c7-59bdd39b68eb",
   "metadata": {},
   "outputs": [],
   "source": [
    "origin_df = pd.read_csv(path)"
   ]
  },
  {
   "cell_type": "markdown",
   "id": "3a46ffcf-02cf-4e1a-b05e-943fbbf4fe8a",
   "metadata": {},
   "source": [
    "#### Copying dataframe"
   ]
  },
  {
   "cell_type": "code",
   "execution_count": 157,
   "id": "b997f121-4019-4cd7-85c0-259aacfbcfcc",
   "metadata": {},
   "outputs": [],
   "source": [
    "df = origin_df.copy()"
   ]
  },
  {
   "cell_type": "markdown",
   "id": "3571afd7-c5e5-4e12-b1fa-bf828d735c52",
   "metadata": {},
   "source": [
    "### Exploring Data"
   ]
  },
  {
   "cell_type": "code",
   "execution_count": 158,
   "id": "71b9bbd2",
   "metadata": {},
   "outputs": [
    {
     "data": {
      "text/html": [
       "<div>\n",
       "<style scoped>\n",
       "    .dataframe tbody tr th:only-of-type {\n",
       "        vertical-align: middle;\n",
       "    }\n",
       "\n",
       "    .dataframe tbody tr th {\n",
       "        vertical-align: top;\n",
       "    }\n",
       "\n",
       "    .dataframe thead th {\n",
       "        text-align: right;\n",
       "    }\n",
       "</style>\n",
       "<table border=\"1\" class=\"dataframe\">\n",
       "  <thead>\n",
       "    <tr style=\"text-align: right;\">\n",
       "      <th></th>\n",
       "      <th>first</th>\n",
       "      <th>last</th>\n",
       "      <th>job</th>\n",
       "      <th>phone</th>\n",
       "      <th>email</th>\n",
       "      <th>client_id</th>\n",
       "      <th>order_id</th>\n",
       "      <th>order_date</th>\n",
       "      <th>order_week</th>\n",
       "      <th>order_year</th>\n",
       "      <th>item_id</th>\n",
       "      <th>category</th>\n",
       "      <th>subcategory</th>\n",
       "      <th>unit_price</th>\n",
       "      <th>unit_cost</th>\n",
       "      <th>unit_weight</th>\n",
       "      <th>qty</th>\n",
       "      <th>line_number</th>\n",
       "    </tr>\n",
       "  </thead>\n",
       "  <tbody>\n",
       "    <tr>\n",
       "      <th>0</th>\n",
       "      <td>Donald</td>\n",
       "      <td>Harding</td>\n",
       "      <td>Immunologist</td>\n",
       "      <td>793-904-7725x39308</td>\n",
       "      <td>harding.donald.7185@sullivan.com</td>\n",
       "      <td>58515</td>\n",
       "      <td>8953482</td>\n",
       "      <td>2023-04-28</td>\n",
       "      <td>17</td>\n",
       "      <td>2023</td>\n",
       "      <td>EUD29711-63-6U</td>\n",
       "      <td>decor</td>\n",
       "      <td>wall art</td>\n",
       "      <td>1096.80</td>\n",
       "      <td>762.71</td>\n",
       "      <td>7.50</td>\n",
       "      <td>105</td>\n",
       "      <td>1</td>\n",
       "    </tr>\n",
       "    <tr>\n",
       "      <th>1</th>\n",
       "      <td>Tiffany</td>\n",
       "      <td>Myers</td>\n",
       "      <td>Music therapist</td>\n",
       "      <td>201.442.4543x942</td>\n",
       "      <td>myers.t.6537@ferguson-johnson.net</td>\n",
       "      <td>37609</td>\n",
       "      <td>8069089</td>\n",
       "      <td>2023-05-19</td>\n",
       "      <td>20</td>\n",
       "      <td>2023</td>\n",
       "      <td>XDA18116-89-4A</td>\n",
       "      <td>consumables</td>\n",
       "      <td>pens</td>\n",
       "      <td>24.95</td>\n",
       "      <td>15.09</td>\n",
       "      <td>1.49</td>\n",
       "      <td>21</td>\n",
       "      <td>0</td>\n",
       "    </tr>\n",
       "    <tr>\n",
       "      <th>2</th>\n",
       "      <td>Shannon</td>\n",
       "      <td>Watson</td>\n",
       "      <td>Immunologist</td>\n",
       "      <td>687.737.9424x8503</td>\n",
       "      <td>swatson8146@payne.net</td>\n",
       "      <td>57113</td>\n",
       "      <td>1902144</td>\n",
       "      <td>2023-01-29</td>\n",
       "      <td>4</td>\n",
       "      <td>2023</td>\n",
       "      <td>ABE59463-05-7E</td>\n",
       "      <td>software</td>\n",
       "      <td>project management</td>\n",
       "      <td>13.52</td>\n",
       "      <td>7.86</td>\n",
       "      <td>1.68</td>\n",
       "      <td>39</td>\n",
       "      <td>6</td>\n",
       "    </tr>\n",
       "    <tr>\n",
       "      <th>3</th>\n",
       "      <td>Nathan</td>\n",
       "      <td>Baker</td>\n",
       "      <td>Accounting technician</td>\n",
       "      <td>827-788-8123x012</td>\n",
       "      <td>bakernathan@benson.com</td>\n",
       "      <td>46554</td>\n",
       "      <td>9031802</td>\n",
       "      <td>2023-04-25</td>\n",
       "      <td>17</td>\n",
       "      <td>2023</td>\n",
       "      <td>ZMM00836-65-0C</td>\n",
       "      <td>consumables</td>\n",
       "      <td>pens</td>\n",
       "      <td>36.42</td>\n",
       "      <td>24.85</td>\n",
       "      <td>1.23</td>\n",
       "      <td>29</td>\n",
       "      <td>3</td>\n",
       "    </tr>\n",
       "    <tr>\n",
       "      <th>4</th>\n",
       "      <td>Christina</td>\n",
       "      <td>Schwartz</td>\n",
       "      <td>Chiropractor</td>\n",
       "      <td>265-829-3643</td>\n",
       "      <td>christinaschwartz9252@mcconnell.com</td>\n",
       "      <td>92089</td>\n",
       "      <td>1322274</td>\n",
       "      <td>2023-05-28</td>\n",
       "      <td>21</td>\n",
       "      <td>2023</td>\n",
       "      <td>BZX55559-12-3X</td>\n",
       "      <td>consumables</td>\n",
       "      <td>misc</td>\n",
       "      <td>195.10</td>\n",
       "      <td>108.17</td>\n",
       "      <td>46.43</td>\n",
       "      <td>20</td>\n",
       "      <td>1</td>\n",
       "    </tr>\n",
       "  </tbody>\n",
       "</table>\n",
       "</div>"
      ],
      "text/plain": [
       "       first      last                    job               phone  \\\n",
       "0     Donald   Harding           Immunologist  793-904-7725x39308   \n",
       "1    Tiffany     Myers        Music therapist    201.442.4543x942   \n",
       "2    Shannon    Watson           Immunologist   687.737.9424x8503   \n",
       "3     Nathan     Baker  Accounting technician    827-788-8123x012   \n",
       "4  Christina  Schwartz           Chiropractor        265-829-3643   \n",
       "\n",
       "                                 email  client_id  order_id  order_date  \\\n",
       "0     harding.donald.7185@sullivan.com      58515   8953482  2023-04-28   \n",
       "1    myers.t.6537@ferguson-johnson.net      37609   8069089  2023-05-19   \n",
       "2                swatson8146@payne.net      57113   1902144  2023-01-29   \n",
       "3               bakernathan@benson.com      46554   9031802  2023-04-25   \n",
       "4  christinaschwartz9252@mcconnell.com      92089   1322274  2023-05-28   \n",
       "\n",
       "   order_week  order_year         item_id     category         subcategory  \\\n",
       "0          17        2023  EUD29711-63-6U        decor            wall art   \n",
       "1          20        2023  XDA18116-89-4A  consumables                pens   \n",
       "2           4        2023  ABE59463-05-7E     software  project management   \n",
       "3          17        2023  ZMM00836-65-0C  consumables                pens   \n",
       "4          21        2023  BZX55559-12-3X  consumables                misc   \n",
       "\n",
       "   unit_price  unit_cost  unit_weight  qty  line_number  \n",
       "0     1096.80     762.71         7.50  105            1  \n",
       "1       24.95      15.09         1.49   21            0  \n",
       "2       13.52       7.86         1.68   39            6  \n",
       "3       36.42      24.85         1.23   29            3  \n",
       "4      195.10     108.17        46.43   20            1  "
      ]
     },
     "execution_count": 158,
     "metadata": {},
     "output_type": "execute_result"
    }
   ],
   "source": [
    "df.head()"
   ]
  },
  {
   "cell_type": "markdown",
   "id": "7fb37c90-62e1-446c-a89e-2fbbc613c996",
   "metadata": {},
   "source": [
    "### Column names"
   ]
  },
  {
   "cell_type": "code",
   "execution_count": 159,
   "id": "1df83e31-bf83-4634-8e11-0eb6108ca04f",
   "metadata": {},
   "outputs": [
    {
     "data": {
      "text/plain": [
       "Index(['first', 'last', 'job', 'phone', 'email', 'client_id', 'order_id',\n",
       "       'order_date', 'order_week', 'order_year', 'item_id', 'category',\n",
       "       'subcategory', 'unit_price', 'unit_cost', 'unit_weight', 'qty',\n",
       "       'line_number'],\n",
       "      dtype='object')"
      ]
     },
     "execution_count": 159,
     "metadata": {},
     "output_type": "execute_result"
    }
   ],
   "source": [
    "df.columns"
   ]
  },
  {
   "cell_type": "markdown",
   "id": "f5f71381-6382-4f97-8d54-283a4760d343",
   "metadata": {},
   "source": [
    "### Using the describe method()"
   ]
  },
  {
   "cell_type": "code",
   "execution_count": 160,
   "id": "bc0f4172",
   "metadata": {},
   "outputs": [
    {
     "data": {
      "text/html": [
       "<div>\n",
       "<style scoped>\n",
       "    .dataframe tbody tr th:only-of-type {\n",
       "        vertical-align: middle;\n",
       "    }\n",
       "\n",
       "    .dataframe tbody tr th {\n",
       "        vertical-align: top;\n",
       "    }\n",
       "\n",
       "    .dataframe thead th {\n",
       "        text-align: right;\n",
       "    }\n",
       "</style>\n",
       "<table border=\"1\" class=\"dataframe\">\n",
       "  <thead>\n",
       "    <tr style=\"text-align: right;\">\n",
       "      <th></th>\n",
       "      <th>client_id</th>\n",
       "      <th>order_id</th>\n",
       "      <th>order_week</th>\n",
       "      <th>order_year</th>\n",
       "      <th>unit_price</th>\n",
       "      <th>unit_cost</th>\n",
       "      <th>unit_weight</th>\n",
       "      <th>qty</th>\n",
       "      <th>line_number</th>\n",
       "    </tr>\n",
       "  </thead>\n",
       "  <tbody>\n",
       "    <tr>\n",
       "      <th>count</th>\n",
       "      <td>54639.000000</td>\n",
       "      <td>5.463900e+04</td>\n",
       "      <td>54639.000000</td>\n",
       "      <td>54639.000000</td>\n",
       "      <td>54639.000000</td>\n",
       "      <td>54639.000000</td>\n",
       "      <td>54639.000000</td>\n",
       "      <td>5.463900e+04</td>\n",
       "      <td>54639.000000</td>\n",
       "    </tr>\n",
       "    <tr>\n",
       "      <th>mean</th>\n",
       "      <td>54837.869416</td>\n",
       "      <td>5.470190e+06</td>\n",
       "      <td>11.359139</td>\n",
       "      <td>2022.993064</td>\n",
       "      <td>136.267207</td>\n",
       "      <td>99.446073</td>\n",
       "      <td>5.004116</td>\n",
       "      <td>5.702646e+02</td>\n",
       "      <td>2.979667</td>\n",
       "    </tr>\n",
       "    <tr>\n",
       "      <th>std</th>\n",
       "      <td>25487.438231</td>\n",
       "      <td>2.599807e+06</td>\n",
       "      <td>7.023499</td>\n",
       "      <td>0.082997</td>\n",
       "      <td>183.873135</td>\n",
       "      <td>133.164267</td>\n",
       "      <td>5.326599</td>\n",
       "      <td>1.879552e+04</td>\n",
       "      <td>2.436320</td>\n",
       "    </tr>\n",
       "    <tr>\n",
       "      <th>min</th>\n",
       "      <td>10033.000000</td>\n",
       "      <td>1.000886e+06</td>\n",
       "      <td>1.000000</td>\n",
       "      <td>2022.000000</td>\n",
       "      <td>0.010000</td>\n",
       "      <td>0.010000</td>\n",
       "      <td>0.000000</td>\n",
       "      <td>0.000000e+00</td>\n",
       "      <td>0.000000</td>\n",
       "    </tr>\n",
       "    <tr>\n",
       "      <th>25%</th>\n",
       "      <td>33593.000000</td>\n",
       "      <td>3.196372e+06</td>\n",
       "      <td>6.000000</td>\n",
       "      <td>2023.000000</td>\n",
       "      <td>20.800000</td>\n",
       "      <td>14.840000</td>\n",
       "      <td>1.450000</td>\n",
       "      <td>3.200000e+01</td>\n",
       "      <td>1.000000</td>\n",
       "    </tr>\n",
       "    <tr>\n",
       "      <th>50%</th>\n",
       "      <td>53305.000000</td>\n",
       "      <td>5.496966e+06</td>\n",
       "      <td>11.000000</td>\n",
       "      <td>2023.000000</td>\n",
       "      <td>68.310000</td>\n",
       "      <td>49.890000</td>\n",
       "      <td>3.240000</td>\n",
       "      <td>6.800000e+01</td>\n",
       "      <td>3.000000</td>\n",
       "    </tr>\n",
       "    <tr>\n",
       "      <th>75%</th>\n",
       "      <td>78498.000000</td>\n",
       "      <td>7.733869e+06</td>\n",
       "      <td>17.000000</td>\n",
       "      <td>2023.000000</td>\n",
       "      <td>173.160000</td>\n",
       "      <td>125.570000</td>\n",
       "      <td>6.890000</td>\n",
       "      <td>1.700000e+02</td>\n",
       "      <td>5.000000</td>\n",
       "    </tr>\n",
       "    <tr>\n",
       "      <th>max</th>\n",
       "      <td>99984.000000</td>\n",
       "      <td>9.998480e+06</td>\n",
       "      <td>52.000000</td>\n",
       "      <td>2023.000000</td>\n",
       "      <td>1396.230000</td>\n",
       "      <td>846.270000</td>\n",
       "      <td>46.430000</td>\n",
       "      <td>3.958244e+06</td>\n",
       "      <td>9.000000</td>\n",
       "    </tr>\n",
       "  </tbody>\n",
       "</table>\n",
       "</div>"
      ],
      "text/plain": [
       "          client_id      order_id    order_week    order_year    unit_price  \\\n",
       "count  54639.000000  5.463900e+04  54639.000000  54639.000000  54639.000000   \n",
       "mean   54837.869416  5.470190e+06     11.359139   2022.993064    136.267207   \n",
       "std    25487.438231  2.599807e+06      7.023499      0.082997    183.873135   \n",
       "min    10033.000000  1.000886e+06      1.000000   2022.000000      0.010000   \n",
       "25%    33593.000000  3.196372e+06      6.000000   2023.000000     20.800000   \n",
       "50%    53305.000000  5.496966e+06     11.000000   2023.000000     68.310000   \n",
       "75%    78498.000000  7.733869e+06     17.000000   2023.000000    173.160000   \n",
       "max    99984.000000  9.998480e+06     52.000000   2023.000000   1396.230000   \n",
       "\n",
       "          unit_cost   unit_weight           qty   line_number  \n",
       "count  54639.000000  54639.000000  5.463900e+04  54639.000000  \n",
       "mean      99.446073      5.004116  5.702646e+02      2.979667  \n",
       "std      133.164267      5.326599  1.879552e+04      2.436320  \n",
       "min        0.010000      0.000000  0.000000e+00      0.000000  \n",
       "25%       14.840000      1.450000  3.200000e+01      1.000000  \n",
       "50%       49.890000      3.240000  6.800000e+01      3.000000  \n",
       "75%      125.570000      6.890000  1.700000e+02      5.000000  \n",
       "max      846.270000     46.430000  3.958244e+06      9.000000  "
      ]
     },
     "execution_count": 160,
     "metadata": {},
     "output_type": "execute_result"
    }
   ],
   "source": [
    "df.describe()"
   ]
  },
  {
   "cell_type": "markdown",
   "id": "dfa02665-114e-49de-9dc0-a694e528f3a3",
   "metadata": {},
   "source": [
    "### Feature information"
   ]
  },
  {
   "cell_type": "code",
   "execution_count": 161,
   "id": "b24b53cc",
   "metadata": {},
   "outputs": [
    {
     "name": "stdout",
     "output_type": "stream",
     "text": [
      "<class 'pandas.core.frame.DataFrame'>\n",
      "RangeIndex: 54639 entries, 0 to 54638\n",
      "Data columns (total 18 columns):\n",
      " #   Column       Non-Null Count  Dtype  \n",
      "---  ------       --------------  -----  \n",
      " 0   first        54639 non-null  object \n",
      " 1   last         54639 non-null  object \n",
      " 2   job          54639 non-null  object \n",
      " 3   phone        54639 non-null  object \n",
      " 4   email        54639 non-null  object \n",
      " 5   client_id    54639 non-null  int64  \n",
      " 6   order_id     54639 non-null  int64  \n",
      " 7   order_date   54639 non-null  object \n",
      " 8   order_week   54639 non-null  int64  \n",
      " 9   order_year   54639 non-null  int64  \n",
      " 10  item_id      54639 non-null  object \n",
      " 11  category     54639 non-null  object \n",
      " 12  subcategory  54639 non-null  object \n",
      " 13  unit_price   54639 non-null  float64\n",
      " 14  unit_cost    54639 non-null  float64\n",
      " 15  unit_weight  54639 non-null  float64\n",
      " 16  qty          54639 non-null  int64  \n",
      " 17  line_number  54639 non-null  int64  \n",
      "dtypes: float64(3), int64(6), object(9)\n",
      "memory usage: 7.5+ MB\n"
     ]
    }
   ],
   "source": [
    "df.info()"
   ]
  },
  {
   "cell_type": "markdown",
   "id": "7a758a4a-f5e7-4272-8083-d86347c2ea61",
   "metadata": {},
   "source": [
    "#### Re-casting features"
   ]
  },
  {
   "cell_type": "code",
   "execution_count": 162,
   "id": "42cb8a34-ee02-44a2-8c2c-5a1b7f27fa0b",
   "metadata": {},
   "outputs": [],
   "source": [
    "df['subcategory'] = df['subcategory'].astype('category')\n",
    "df['category'] = df['category'].astype('category')\n",
    "df['order_date'] = pd.to_datetime(df['order_date'])\n",
    "df['item_id'] = df['item_id'].astype('category')\n",
    "df['client_id'] = df['client_id'].astype('category')\n",
    "df['order_id'] = df['order_id'].astype('category')\n",
    "df['line_number'] = df['line_number'].astype('category')"
   ]
  },
  {
   "cell_type": "markdown",
   "id": "1b514edc-30ac-43d6-baad-41b00dcf7c78",
   "metadata": {},
   "source": [
    "#### What three item categories had the most entries?"
   ]
  },
  {
   "cell_type": "code",
   "execution_count": 163,
   "id": "ccc30057-da03-4541-8746-937d0853701a",
   "metadata": {},
   "outputs": [
    {
     "data": {
      "text/plain": [
       "category\n",
       "consumables    23538\n",
       "furniture      11915\n",
       "software        8400\n",
       "Name: count, dtype: int64"
      ]
     },
     "execution_count": 163,
     "metadata": {},
     "output_type": "execute_result"
    }
   ],
   "source": [
    "df['category'].value_counts()[:3]"
   ]
  },
  {
   "cell_type": "markdown",
   "id": "303fd470-becb-4f23-bc44-0472ea86f619",
   "metadata": {},
   "source": [
    "#### For the category with the most entries, which subcategory had the most entries?"
   ]
  },
  {
   "cell_type": "code",
   "execution_count": 164,
   "id": "4b8952ab-d4c8-4fc2-987a-e131ac6b178e",
   "metadata": {},
   "outputs": [
    {
     "data": {
      "text/plain": [
       "category     subcategory      \n",
       "consumables  bathroom supplies    6424\n",
       "Name: count, dtype: int64"
      ]
     },
     "execution_count": 164,
     "metadata": {},
     "output_type": "execute_result"
    }
   ],
   "source": [
    "df[['category','subcategory']].value_counts(ascending=False)[:1]"
   ]
  },
  {
   "cell_type": "markdown",
   "id": "f88c8657-02f0-4a20-b2db-d7fc8901535e",
   "metadata": {},
   "source": [
    "#### Which five clients had the most entries in the data?"
   ]
  },
  {
   "cell_type": "code",
   "execution_count": 165,
   "id": "3412bf8b-cf12-42f4-98ce-3ba32503f7fc",
   "metadata": {},
   "outputs": [
    {
     "data": {
      "text/plain": [
       "client_id\n",
       "33615    220\n",
       "66037    211\n",
       "46820    209\n",
       "38378    207\n",
       "24741    207\n",
       "Name: count, dtype: int64"
      ]
     },
     "execution_count": 165,
     "metadata": {},
     "output_type": "execute_result"
    }
   ],
   "source": [
    "df['client_id'].value_counts()[:5]"
   ]
  },
  {
   "cell_type": "markdown",
   "id": "7e68510b-82b9-4224-977d-78eae5be0db6",
   "metadata": {},
   "source": [
    "#### Store the client ids of those top 5 clients in a list."
   ]
  },
  {
   "cell_type": "code",
   "execution_count": 166,
   "id": "f5824d23-2da7-4c61-927c-95cc735bd1b6",
   "metadata": {},
   "outputs": [
    {
     "data": {
      "text/plain": [
       "[33615, 66037, 46820, 38378, 24741]"
      ]
     },
     "execution_count": 166,
     "metadata": {},
     "output_type": "execute_result"
    }
   ],
   "source": [
    "df['client_id'].value_counts()[:5].index.to_list()"
   ]
  },
  {
   "cell_type": "markdown",
   "id": "17218ece-710a-4fa4-9a0f-7f3e65b397ca",
   "metadata": {},
   "source": [
    "#### How many total units (the qty column) did the client with the most entries order order?"
   ]
  },
  {
   "cell_type": "code",
   "execution_count": 167,
   "id": "fc5a0efa-95df-47fe-bbfd-f1453df34e30",
   "metadata": {},
   "outputs": [
    {
     "data": {
      "text/plain": [
       "64313"
      ]
     },
     "execution_count": 167,
     "metadata": {},
     "output_type": "execute_result"
    }
   ],
   "source": [
    "df.loc[df['client_id']== 33615]['qty'].sum()"
   ]
  },
  {
   "cell_type": "markdown",
   "id": "257fcd7d",
   "metadata": {},
   "source": [
    "## Part 2: Transform the Data\n",
    "Do we know that this client spent the more money than client 66037? If not, how would we find out? Transform the data using the steps below to prepare it for analysis."
   ]
  },
  {
   "cell_type": "markdown",
   "id": "17c64672-afca-4bee-845b-9b3fe1583145",
   "metadata": {},
   "source": [
    "#### Create a column that calculates the subtotal for each line using the unit_price  and the qty"
   ]
  },
  {
   "cell_type": "code",
   "execution_count": 168,
   "id": "81e8702b-56f6-418e-80d3-2e504912edd3",
   "metadata": {},
   "outputs": [
    {
     "data": {
      "text/html": [
       "<div>\n",
       "<style scoped>\n",
       "    .dataframe tbody tr th:only-of-type {\n",
       "        vertical-align: middle;\n",
       "    }\n",
       "\n",
       "    .dataframe tbody tr th {\n",
       "        vertical-align: top;\n",
       "    }\n",
       "\n",
       "    .dataframe thead th {\n",
       "        text-align: right;\n",
       "    }\n",
       "</style>\n",
       "<table border=\"1\" class=\"dataframe\">\n",
       "  <thead>\n",
       "    <tr style=\"text-align: right;\">\n",
       "      <th></th>\n",
       "      <th>unit_price</th>\n",
       "      <th>qty</th>\n",
       "      <th>line_subtotal</th>\n",
       "    </tr>\n",
       "  </thead>\n",
       "  <tbody>\n",
       "    <tr>\n",
       "      <th>0</th>\n",
       "      <td>1096.80</td>\n",
       "      <td>105</td>\n",
       "      <td>115164.00</td>\n",
       "    </tr>\n",
       "    <tr>\n",
       "      <th>1</th>\n",
       "      <td>24.95</td>\n",
       "      <td>21</td>\n",
       "      <td>523.95</td>\n",
       "    </tr>\n",
       "  </tbody>\n",
       "</table>\n",
       "</div>"
      ],
      "text/plain": [
       "   unit_price  qty  line_subtotal\n",
       "0     1096.80  105      115164.00\n",
       "1       24.95   21         523.95"
      ]
     },
     "execution_count": 168,
     "metadata": {},
     "output_type": "execute_result"
    }
   ],
   "source": [
    "df['line_subtotal'] = df.apply(lambda row:row['unit_price']*row['qty'],axis=1)\n",
    "df[['unit_price','qty','line_subtotal']].head(2)"
   ]
  },
  {
   "cell_type": "markdown",
   "id": "cca583fb-e56c-47fd-904c-a6b3f4ac1a8d",
   "metadata": {},
   "source": [
    "#### Create a column for shipping price.\n",
    "**Assume a shipping price of 7 per pound for orders over 50 lbs, and 10 per pound for items 50 pounds or under**\n"
   ]
  },
  {
   "cell_type": "code",
   "execution_count": 169,
   "id": "e6752863-4721-48ba-b3fa-a0160d03f497",
   "metadata": {},
   "outputs": [],
   "source": [
    "over_50 = 7\n",
    "under_50 = 10\n",
    "df['total_weight'] = df['unit_weight']*df['qty']\n",
    "df['shipping_price'] = df.apply(lambda row:row['total_weight']*over_50 if row['total_weight'] > 50 else row['total_weight']*under_50,axis=1) "
   ]
  },
  {
   "cell_type": "code",
   "execution_count": 170,
   "id": "50cb30b3-06ac-4b17-a095-37ecf0d2cde0",
   "metadata": {},
   "outputs": [
    {
     "data": {
      "text/html": [
       "<div>\n",
       "<style scoped>\n",
       "    .dataframe tbody tr th:only-of-type {\n",
       "        vertical-align: middle;\n",
       "    }\n",
       "\n",
       "    .dataframe tbody tr th {\n",
       "        vertical-align: top;\n",
       "    }\n",
       "\n",
       "    .dataframe thead th {\n",
       "        text-align: right;\n",
       "    }\n",
       "</style>\n",
       "<table border=\"1\" class=\"dataframe\">\n",
       "  <thead>\n",
       "    <tr style=\"text-align: right;\">\n",
       "      <th></th>\n",
       "      <th>unit_price</th>\n",
       "      <th>unit_weight</th>\n",
       "      <th>qty</th>\n",
       "      <th>total_weight</th>\n",
       "      <th>shipping_price</th>\n",
       "    </tr>\n",
       "  </thead>\n",
       "  <tbody>\n",
       "    <tr>\n",
       "      <th>0</th>\n",
       "      <td>1096.80</td>\n",
       "      <td>7.50</td>\n",
       "      <td>105</td>\n",
       "      <td>787.50</td>\n",
       "      <td>5512.50</td>\n",
       "    </tr>\n",
       "    <tr>\n",
       "      <th>1</th>\n",
       "      <td>24.95</td>\n",
       "      <td>1.49</td>\n",
       "      <td>21</td>\n",
       "      <td>31.29</td>\n",
       "      <td>312.90</td>\n",
       "    </tr>\n",
       "    <tr>\n",
       "      <th>2</th>\n",
       "      <td>13.52</td>\n",
       "      <td>1.68</td>\n",
       "      <td>39</td>\n",
       "      <td>65.52</td>\n",
       "      <td>458.64</td>\n",
       "    </tr>\n",
       "  </tbody>\n",
       "</table>\n",
       "</div>"
      ],
      "text/plain": [
       "   unit_price  unit_weight  qty  total_weight  shipping_price\n",
       "0     1096.80         7.50  105        787.50         5512.50\n",
       "1       24.95         1.49   21         31.29          312.90\n",
       "2       13.52         1.68   39         65.52          458.64"
      ]
     },
     "execution_count": 170,
     "metadata": {},
     "output_type": "execute_result"
    }
   ],
   "source": [
    "df[['unit_price',\n",
    "    'unit_weight',\n",
    "    'qty',\n",
    "    'total_weight',\n",
    "    'shipping_price']].head(3)"
   ]
  },
  {
   "cell_type": "markdown",
   "id": "fd6cc404-8a71-49ac-b67e-ca154cec8e9c",
   "metadata": {},
   "source": [
    "#### Create a column for total price\n",
    "**Using the subtotal and the shipping price along with a sales tax of 9.25%**"
   ]
  },
  {
   "cell_type": "code",
   "execution_count": 171,
   "id": "0746815e-7af6-4c08-a1e5-74dd6ded5e3c",
   "metadata": {},
   "outputs": [],
   "source": [
    "sales_tax = 0.0925\n",
    "df['line_price'] = (df['line_subtotal'] + df['shipping_price'])*(1+sales_tax)\n",
    "df['line_price'] = df['line_price'].round(2)"
   ]
  },
  {
   "cell_type": "code",
   "execution_count": 172,
   "id": "8b6ac118-1169-4feb-8916-ee13fe92c30b",
   "metadata": {},
   "outputs": [
    {
     "data": {
      "text/html": [
       "<div>\n",
       "<style scoped>\n",
       "    .dataframe tbody tr th:only-of-type {\n",
       "        vertical-align: middle;\n",
       "    }\n",
       "\n",
       "    .dataframe tbody tr th {\n",
       "        vertical-align: top;\n",
       "    }\n",
       "\n",
       "    .dataframe thead th {\n",
       "        text-align: right;\n",
       "    }\n",
       "</style>\n",
       "<table border=\"1\" class=\"dataframe\">\n",
       "  <thead>\n",
       "    <tr style=\"text-align: right;\">\n",
       "      <th></th>\n",
       "      <th>line_subtotal</th>\n",
       "      <th>shipping_price</th>\n",
       "      <th>line_price</th>\n",
       "    </tr>\n",
       "  </thead>\n",
       "  <tbody>\n",
       "    <tr>\n",
       "      <th>0</th>\n",
       "      <td>115164.00</td>\n",
       "      <td>5512.50</td>\n",
       "      <td>131839.08</td>\n",
       "    </tr>\n",
       "    <tr>\n",
       "      <th>1</th>\n",
       "      <td>523.95</td>\n",
       "      <td>312.90</td>\n",
       "      <td>914.26</td>\n",
       "    </tr>\n",
       "    <tr>\n",
       "      <th>2</th>\n",
       "      <td>527.28</td>\n",
       "      <td>458.64</td>\n",
       "      <td>1077.12</td>\n",
       "    </tr>\n",
       "  </tbody>\n",
       "</table>\n",
       "</div>"
      ],
      "text/plain": [
       "   line_subtotal  shipping_price  line_price\n",
       "0      115164.00         5512.50   131839.08\n",
       "1         523.95          312.90      914.26\n",
       "2         527.28          458.64     1077.12"
      ]
     },
     "execution_count": 172,
     "metadata": {},
     "output_type": "execute_result"
    }
   ],
   "source": [
    "df[['line_subtotal',\n",
    "    'shipping_price',\n",
    "    'line_price']].head(3)"
   ]
  },
  {
   "cell_type": "markdown",
   "id": "fcd1344c-a4b0-4ee7-956d-57dbc265947b",
   "metadata": {},
   "source": [
    "#### Create a column for the cost of each line\n",
    "**Use unit_cost, qty, shipping_price**"
   ]
  },
  {
   "cell_type": "code",
   "execution_count": 173,
   "id": "cdda271b-4129-45ff-971e-1c458ea1a471",
   "metadata": {},
   "outputs": [],
   "source": [
    "df['line_cost'] = (df['unit_cost']*df['qty']) + df['shipping_price']\n",
    "df['line_cost'] = df['line_cost'].round(2)"
   ]
  },
  {
   "cell_type": "code",
   "execution_count": 174,
   "id": "e4a019bf-b07f-4181-a7d8-430ae4e2d5b7",
   "metadata": {},
   "outputs": [
    {
     "data": {
      "text/html": [
       "<div>\n",
       "<style scoped>\n",
       "    .dataframe tbody tr th:only-of-type {\n",
       "        vertical-align: middle;\n",
       "    }\n",
       "\n",
       "    .dataframe tbody tr th {\n",
       "        vertical-align: top;\n",
       "    }\n",
       "\n",
       "    .dataframe thead th {\n",
       "        text-align: right;\n",
       "    }\n",
       "</style>\n",
       "<table border=\"1\" class=\"dataframe\">\n",
       "  <thead>\n",
       "    <tr style=\"text-align: right;\">\n",
       "      <th></th>\n",
       "      <th>unit_cost</th>\n",
       "      <th>qty</th>\n",
       "      <th>shipping_price</th>\n",
       "      <th>line_cost</th>\n",
       "    </tr>\n",
       "  </thead>\n",
       "  <tbody>\n",
       "    <tr>\n",
       "      <th>0</th>\n",
       "      <td>762.71</td>\n",
       "      <td>105</td>\n",
       "      <td>5512.50</td>\n",
       "      <td>85597.05</td>\n",
       "    </tr>\n",
       "    <tr>\n",
       "      <th>1</th>\n",
       "      <td>15.09</td>\n",
       "      <td>21</td>\n",
       "      <td>312.90</td>\n",
       "      <td>629.79</td>\n",
       "    </tr>\n",
       "    <tr>\n",
       "      <th>2</th>\n",
       "      <td>7.86</td>\n",
       "      <td>39</td>\n",
       "      <td>458.64</td>\n",
       "      <td>765.18</td>\n",
       "    </tr>\n",
       "  </tbody>\n",
       "</table>\n",
       "</div>"
      ],
      "text/plain": [
       "   unit_cost  qty  shipping_price  line_cost\n",
       "0     762.71  105         5512.50   85597.05\n",
       "1      15.09   21          312.90     629.79\n",
       "2       7.86   39          458.64     765.18"
      ]
     },
     "execution_count": 174,
     "metadata": {},
     "output_type": "execute_result"
    }
   ],
   "source": [
    "df[['unit_cost',\n",
    "    'qty',\n",
    "    'shipping_price',\n",
    "    'line_cost']].head(3)"
   ]
  },
  {
   "cell_type": "code",
   "execution_count": 175,
   "id": "312107c2-8878-421c-b444-70c65781978e",
   "metadata": {},
   "outputs": [
    {
     "data": {
      "text/html": [
       "<div>\n",
       "<style scoped>\n",
       "    .dataframe tbody tr th:only-of-type {\n",
       "        vertical-align: middle;\n",
       "    }\n",
       "\n",
       "    .dataframe tbody tr th {\n",
       "        vertical-align: top;\n",
       "    }\n",
       "\n",
       "    .dataframe thead th {\n",
       "        text-align: right;\n",
       "    }\n",
       "</style>\n",
       "<table border=\"1\" class=\"dataframe\">\n",
       "  <thead>\n",
       "    <tr style=\"text-align: right;\">\n",
       "      <th></th>\n",
       "      <th>first</th>\n",
       "      <th>last</th>\n",
       "      <th>job</th>\n",
       "      <th>phone</th>\n",
       "      <th>email</th>\n",
       "      <th>client_id</th>\n",
       "      <th>order_id</th>\n",
       "      <th>order_date</th>\n",
       "      <th>order_week</th>\n",
       "      <th>order_year</th>\n",
       "      <th>...</th>\n",
       "      <th>unit_price</th>\n",
       "      <th>unit_cost</th>\n",
       "      <th>unit_weight</th>\n",
       "      <th>qty</th>\n",
       "      <th>line_number</th>\n",
       "      <th>line_subtotal</th>\n",
       "      <th>total_weight</th>\n",
       "      <th>shipping_price</th>\n",
       "      <th>line_price</th>\n",
       "      <th>line_cost</th>\n",
       "    </tr>\n",
       "  </thead>\n",
       "  <tbody>\n",
       "    <tr>\n",
       "      <th>0</th>\n",
       "      <td>Donald</td>\n",
       "      <td>Harding</td>\n",
       "      <td>Immunologist</td>\n",
       "      <td>793-904-7725x39308</td>\n",
       "      <td>harding.donald.7185@sullivan.com</td>\n",
       "      <td>58515</td>\n",
       "      <td>8953482</td>\n",
       "      <td>2023-04-28</td>\n",
       "      <td>17</td>\n",
       "      <td>2023</td>\n",
       "      <td>...</td>\n",
       "      <td>1096.80</td>\n",
       "      <td>762.71</td>\n",
       "      <td>7.50</td>\n",
       "      <td>105</td>\n",
       "      <td>1</td>\n",
       "      <td>115164.00</td>\n",
       "      <td>787.50</td>\n",
       "      <td>5512.50</td>\n",
       "      <td>131839.08</td>\n",
       "      <td>85597.05</td>\n",
       "    </tr>\n",
       "    <tr>\n",
       "      <th>1</th>\n",
       "      <td>Tiffany</td>\n",
       "      <td>Myers</td>\n",
       "      <td>Music therapist</td>\n",
       "      <td>201.442.4543x942</td>\n",
       "      <td>myers.t.6537@ferguson-johnson.net</td>\n",
       "      <td>37609</td>\n",
       "      <td>8069089</td>\n",
       "      <td>2023-05-19</td>\n",
       "      <td>20</td>\n",
       "      <td>2023</td>\n",
       "      <td>...</td>\n",
       "      <td>24.95</td>\n",
       "      <td>15.09</td>\n",
       "      <td>1.49</td>\n",
       "      <td>21</td>\n",
       "      <td>0</td>\n",
       "      <td>523.95</td>\n",
       "      <td>31.29</td>\n",
       "      <td>312.90</td>\n",
       "      <td>914.26</td>\n",
       "      <td>629.79</td>\n",
       "    </tr>\n",
       "    <tr>\n",
       "      <th>2</th>\n",
       "      <td>Shannon</td>\n",
       "      <td>Watson</td>\n",
       "      <td>Immunologist</td>\n",
       "      <td>687.737.9424x8503</td>\n",
       "      <td>swatson8146@payne.net</td>\n",
       "      <td>57113</td>\n",
       "      <td>1902144</td>\n",
       "      <td>2023-01-29</td>\n",
       "      <td>4</td>\n",
       "      <td>2023</td>\n",
       "      <td>...</td>\n",
       "      <td>13.52</td>\n",
       "      <td>7.86</td>\n",
       "      <td>1.68</td>\n",
       "      <td>39</td>\n",
       "      <td>6</td>\n",
       "      <td>527.28</td>\n",
       "      <td>65.52</td>\n",
       "      <td>458.64</td>\n",
       "      <td>1077.12</td>\n",
       "      <td>765.18</td>\n",
       "    </tr>\n",
       "  </tbody>\n",
       "</table>\n",
       "<p>3 rows × 23 columns</p>\n",
       "</div>"
      ],
      "text/plain": [
       "     first     last              job               phone  \\\n",
       "0   Donald  Harding     Immunologist  793-904-7725x39308   \n",
       "1  Tiffany    Myers  Music therapist    201.442.4543x942   \n",
       "2  Shannon   Watson     Immunologist   687.737.9424x8503   \n",
       "\n",
       "                               email client_id order_id order_date  \\\n",
       "0   harding.donald.7185@sullivan.com     58515  8953482 2023-04-28   \n",
       "1  myers.t.6537@ferguson-johnson.net     37609  8069089 2023-05-19   \n",
       "2              swatson8146@payne.net     57113  1902144 2023-01-29   \n",
       "\n",
       "   order_week  order_year  ... unit_price unit_cost unit_weight  qty  \\\n",
       "0          17        2023  ...    1096.80    762.71        7.50  105   \n",
       "1          20        2023  ...      24.95     15.09        1.49   21   \n",
       "2           4        2023  ...      13.52      7.86        1.68   39   \n",
       "\n",
       "   line_number  line_subtotal  total_weight shipping_price  line_price  \\\n",
       "0            1      115164.00        787.50        5512.50   131839.08   \n",
       "1            0         523.95         31.29         312.90      914.26   \n",
       "2            6         527.28         65.52         458.64     1077.12   \n",
       "\n",
       "   line_cost  \n",
       "0   85597.05  \n",
       "1     629.79  \n",
       "2     765.18  \n",
       "\n",
       "[3 rows x 23 columns]"
      ]
     },
     "execution_count": 175,
     "metadata": {},
     "output_type": "execute_result"
    }
   ],
   "source": [
    "df.head(3)"
   ]
  },
  {
   "cell_type": "markdown",
   "id": "32892f13-f8d2-44e6-97b2-e2c12ac595d0",
   "metadata": {},
   "source": [
    "#### Create a column for the profit of each line\n",
    "**Use line_cost and line_price**"
   ]
  },
  {
   "cell_type": "code",
   "execution_count": 176,
   "id": "41a1606e-86fb-4887-9afa-72b84a5faa5a",
   "metadata": {},
   "outputs": [],
   "source": [
    "df['line_profit'] = df['line_price'] - df['line_cost']"
   ]
  },
  {
   "cell_type": "code",
   "execution_count": 177,
   "id": "8897ddd5-d9d2-4104-9c7e-1b8396e3ad1a",
   "metadata": {},
   "outputs": [
    {
     "data": {
      "text/html": [
       "<div>\n",
       "<style scoped>\n",
       "    .dataframe tbody tr th:only-of-type {\n",
       "        vertical-align: middle;\n",
       "    }\n",
       "\n",
       "    .dataframe tbody tr th {\n",
       "        vertical-align: top;\n",
       "    }\n",
       "\n",
       "    .dataframe thead th {\n",
       "        text-align: right;\n",
       "    }\n",
       "</style>\n",
       "<table border=\"1\" class=\"dataframe\">\n",
       "  <thead>\n",
       "    <tr style=\"text-align: right;\">\n",
       "      <th></th>\n",
       "      <th>line_price</th>\n",
       "      <th>line_cost</th>\n",
       "      <th>line_profit</th>\n",
       "    </tr>\n",
       "  </thead>\n",
       "  <tbody>\n",
       "    <tr>\n",
       "      <th>0</th>\n",
       "      <td>131839.08</td>\n",
       "      <td>85597.05</td>\n",
       "      <td>46242.03</td>\n",
       "    </tr>\n",
       "    <tr>\n",
       "      <th>1</th>\n",
       "      <td>914.26</td>\n",
       "      <td>629.79</td>\n",
       "      <td>284.47</td>\n",
       "    </tr>\n",
       "    <tr>\n",
       "      <th>2</th>\n",
       "      <td>1077.12</td>\n",
       "      <td>765.18</td>\n",
       "      <td>311.94</td>\n",
       "    </tr>\n",
       "  </tbody>\n",
       "</table>\n",
       "</div>"
      ],
      "text/plain": [
       "   line_price  line_cost  line_profit\n",
       "0   131839.08   85597.05     46242.03\n",
       "1      914.26     629.79       284.47\n",
       "2     1077.12     765.18       311.94"
      ]
     },
     "execution_count": 177,
     "metadata": {},
     "output_type": "execute_result"
    }
   ],
   "source": [
    "df['line_profit'].round(2)\n",
    "df[['line_price',\n",
    "    'line_cost',\n",
    "    'line_profit']].head(3)"
   ]
  },
  {
   "cell_type": "code",
   "execution_count": 178,
   "id": "1b28c6ac-a5ca-4c95-8045-3085c3518475",
   "metadata": {},
   "outputs": [
    {
     "data": {
      "text/html": [
       "<div>\n",
       "<style scoped>\n",
       "    .dataframe tbody tr th:only-of-type {\n",
       "        vertical-align: middle;\n",
       "    }\n",
       "\n",
       "    .dataframe tbody tr th {\n",
       "        vertical-align: top;\n",
       "    }\n",
       "\n",
       "    .dataframe thead th {\n",
       "        text-align: right;\n",
       "    }\n",
       "</style>\n",
       "<table border=\"1\" class=\"dataframe\">\n",
       "  <thead>\n",
       "    <tr style=\"text-align: right;\">\n",
       "      <th></th>\n",
       "      <th>first</th>\n",
       "      <th>last</th>\n",
       "      <th>job</th>\n",
       "      <th>phone</th>\n",
       "      <th>email</th>\n",
       "      <th>client_id</th>\n",
       "      <th>order_id</th>\n",
       "      <th>order_date</th>\n",
       "      <th>order_week</th>\n",
       "      <th>order_year</th>\n",
       "      <th>...</th>\n",
       "      <th>unit_cost</th>\n",
       "      <th>unit_weight</th>\n",
       "      <th>qty</th>\n",
       "      <th>line_number</th>\n",
       "      <th>line_subtotal</th>\n",
       "      <th>total_weight</th>\n",
       "      <th>shipping_price</th>\n",
       "      <th>line_price</th>\n",
       "      <th>line_cost</th>\n",
       "      <th>line_profit</th>\n",
       "    </tr>\n",
       "  </thead>\n",
       "  <tbody>\n",
       "    <tr>\n",
       "      <th>0</th>\n",
       "      <td>Donald</td>\n",
       "      <td>Harding</td>\n",
       "      <td>Immunologist</td>\n",
       "      <td>793-904-7725x39308</td>\n",
       "      <td>harding.donald.7185@sullivan.com</td>\n",
       "      <td>58515</td>\n",
       "      <td>8953482</td>\n",
       "      <td>2023-04-28</td>\n",
       "      <td>17</td>\n",
       "      <td>2023</td>\n",
       "      <td>...</td>\n",
       "      <td>762.71</td>\n",
       "      <td>7.50</td>\n",
       "      <td>105</td>\n",
       "      <td>1</td>\n",
       "      <td>115164.00</td>\n",
       "      <td>787.50</td>\n",
       "      <td>5512.50</td>\n",
       "      <td>131839.08</td>\n",
       "      <td>85597.05</td>\n",
       "      <td>46242.03</td>\n",
       "    </tr>\n",
       "    <tr>\n",
       "      <th>1</th>\n",
       "      <td>Tiffany</td>\n",
       "      <td>Myers</td>\n",
       "      <td>Music therapist</td>\n",
       "      <td>201.442.4543x942</td>\n",
       "      <td>myers.t.6537@ferguson-johnson.net</td>\n",
       "      <td>37609</td>\n",
       "      <td>8069089</td>\n",
       "      <td>2023-05-19</td>\n",
       "      <td>20</td>\n",
       "      <td>2023</td>\n",
       "      <td>...</td>\n",
       "      <td>15.09</td>\n",
       "      <td>1.49</td>\n",
       "      <td>21</td>\n",
       "      <td>0</td>\n",
       "      <td>523.95</td>\n",
       "      <td>31.29</td>\n",
       "      <td>312.90</td>\n",
       "      <td>914.26</td>\n",
       "      <td>629.79</td>\n",
       "      <td>284.47</td>\n",
       "    </tr>\n",
       "    <tr>\n",
       "      <th>2</th>\n",
       "      <td>Shannon</td>\n",
       "      <td>Watson</td>\n",
       "      <td>Immunologist</td>\n",
       "      <td>687.737.9424x8503</td>\n",
       "      <td>swatson8146@payne.net</td>\n",
       "      <td>57113</td>\n",
       "      <td>1902144</td>\n",
       "      <td>2023-01-29</td>\n",
       "      <td>4</td>\n",
       "      <td>2023</td>\n",
       "      <td>...</td>\n",
       "      <td>7.86</td>\n",
       "      <td>1.68</td>\n",
       "      <td>39</td>\n",
       "      <td>6</td>\n",
       "      <td>527.28</td>\n",
       "      <td>65.52</td>\n",
       "      <td>458.64</td>\n",
       "      <td>1077.12</td>\n",
       "      <td>765.18</td>\n",
       "      <td>311.94</td>\n",
       "    </tr>\n",
       "  </tbody>\n",
       "</table>\n",
       "<p>3 rows × 24 columns</p>\n",
       "</div>"
      ],
      "text/plain": [
       "     first     last              job               phone  \\\n",
       "0   Donald  Harding     Immunologist  793-904-7725x39308   \n",
       "1  Tiffany    Myers  Music therapist    201.442.4543x942   \n",
       "2  Shannon   Watson     Immunologist   687.737.9424x8503   \n",
       "\n",
       "                               email client_id order_id order_date  \\\n",
       "0   harding.donald.7185@sullivan.com     58515  8953482 2023-04-28   \n",
       "1  myers.t.6537@ferguson-johnson.net     37609  8069089 2023-05-19   \n",
       "2              swatson8146@payne.net     57113  1902144 2023-01-29   \n",
       "\n",
       "   order_week  order_year  ... unit_cost unit_weight  qty  line_number  \\\n",
       "0          17        2023  ...    762.71        7.50  105            1   \n",
       "1          20        2023  ...     15.09        1.49   21            0   \n",
       "2           4        2023  ...      7.86        1.68   39            6   \n",
       "\n",
       "   line_subtotal  total_weight  shipping_price line_price  line_cost  \\\n",
       "0      115164.00        787.50         5512.50  131839.08   85597.05   \n",
       "1         523.95         31.29          312.90     914.26     629.79   \n",
       "2         527.28         65.52          458.64    1077.12     765.18   \n",
       "\n",
       "   line_profit  \n",
       "0     46242.03  \n",
       "1       284.47  \n",
       "2       311.94  \n",
       "\n",
       "[3 rows x 24 columns]"
      ]
     },
     "execution_count": 178,
     "metadata": {},
     "output_type": "execute_result"
    }
   ],
   "source": [
    "df.head(3)"
   ]
  },
  {
   "cell_type": "markdown",
   "id": "ef6f62b1",
   "metadata": {},
   "source": [
    "## Part 3: Confirm your work\n",
    "You have email receipts showing that the total prices for 3 orders. Confirm that your calculations match the receipts. Remember, each order has multiple lines.\n",
    "\n",
    "Order ID 2742071 had a total price of \\$152,811.89\n",
    "\n",
    "Order ID 2173913 had a total price of \\$162,388.71\n",
    "\n",
    "Order ID 6128929 had a total price of \\$923,441.25\n"
   ]
  },
  {
   "cell_type": "code",
   "execution_count": 179,
   "id": "e9d232f5-21ba-430b-acf5-a41a72a00545",
   "metadata": {},
   "outputs": [
    {
     "name": "stdout",
     "output_type": "stream",
     "text": [
      "Order 2742071 total: $152811.89\n",
      "Order 2173913 total: $162388.71\n",
      "Order 6128929 total: $923441.25\n"
     ]
    }
   ],
   "source": [
    "order_list = [2742071,2173913,6128929]\n",
    "for order in order_list:\n",
    "    order_total = df.loc[df['order_id'] == order]['line_price'].sum().round(2)\n",
    "    print(f'Order {order} total: ${order_total}')"
   ]
  },
  {
   "cell_type": "markdown",
   "id": "b94d58ab",
   "metadata": {},
   "source": [
    "## Part 4: Summarize and Analyze\n",
    "Use the new columns with confirmed values to find the following information."
   ]
  },
  {
   "cell_type": "markdown",
   "id": "099cdced-db52-400a-afec-e0970d8701fd",
   "metadata": {},
   "source": [
    "#### How much did each of the top 5 clients by quantity spend?"
   ]
  },
  {
   "cell_type": "code",
   "execution_count": 180,
   "id": "897318ac-7f87-4759-8a6b-6a126d0de3a7",
   "metadata": {},
   "outputs": [
    {
     "name": "stdout",
     "output_type": "stream",
     "text": [
      "client number 33615 total: $8377308.52\n",
      "client number 66037 total: $10259514.79\n",
      "client number 46820 total: $9743794.36\n",
      "client number 38378 total: $12906550.87\n",
      "client number 24741 total: $82268892.02\n"
     ]
    }
   ],
   "source": [
    "client_list = df['client_id'].value_counts()[:5].index.to_list()\n",
    "for client in client_list:\n",
    "    client_total = df.loc[df['client_id'] == client]['line_price'].sum().round(2)\n",
    "    print(f'client number {client} total: ${client_total}')"
   ]
  },
  {
   "cell_type": "markdown",
   "id": "ba4fdee6-c9b4-41c0-86e8-ba2e318fb1a8",
   "metadata": {},
   "source": [
    "#### Create a summary DataFrame showing the totals for the top 5 clients with the following information:\n",
    "**1) Total units purchased<br>\n",
    "2) Total shipping price<br>\n",
    "3) Total revenue<br>\n",
    "4) Total profit<br>\n",
    "5) Sort by total profit**"
   ]
  },
  {
   "cell_type": "code",
   "execution_count": 181,
   "id": "bef81bad-e353-42b0-bb7d-89e0147a6c19",
   "metadata": {},
   "outputs": [
    {
     "data": {
      "text/html": [
       "<div>\n",
       "<style scoped>\n",
       "    .dataframe tbody tr th:only-of-type {\n",
       "        vertical-align: middle;\n",
       "    }\n",
       "\n",
       "    .dataframe tbody tr th {\n",
       "        vertical-align: top;\n",
       "    }\n",
       "\n",
       "    .dataframe thead th {\n",
       "        text-align: right;\n",
       "    }\n",
       "</style>\n",
       "<table border=\"1\" class=\"dataframe\">\n",
       "  <thead>\n",
       "    <tr style=\"text-align: right;\">\n",
       "      <th></th>\n",
       "      <th>client_id</th>\n",
       "      <th>qty</th>\n",
       "      <th>shipping_price</th>\n",
       "      <th>line_price</th>\n",
       "      <th>line_cost</th>\n",
       "      <th>line_profit</th>\n",
       "    </tr>\n",
       "  </thead>\n",
       "  <tbody>\n",
       "    <tr>\n",
       "      <th>0</th>\n",
       "      <td>24741</td>\n",
       "      <td>239862</td>\n",
       "      <td>5126448.37</td>\n",
       "      <td>82268892.02</td>\n",
       "      <td>45688899.71</td>\n",
       "      <td>36579992.31</td>\n",
       "    </tr>\n",
       "    <tr>\n",
       "      <th>2</th>\n",
       "      <td>38378</td>\n",
       "      <td>73667</td>\n",
       "      <td>3429455.40</td>\n",
       "      <td>12906550.87</td>\n",
       "      <td>9634720.98</td>\n",
       "      <td>3271829.89</td>\n",
       "    </tr>\n",
       "    <tr>\n",
       "      <th>4</th>\n",
       "      <td>66037</td>\n",
       "      <td>43018</td>\n",
       "      <td>1395151.85</td>\n",
       "      <td>10259514.79</td>\n",
       "      <td>7004482.98</td>\n",
       "      <td>3255031.81</td>\n",
       "    </tr>\n",
       "    <tr>\n",
       "      <th>3</th>\n",
       "      <td>46820</td>\n",
       "      <td>75768</td>\n",
       "      <td>1601448.84</td>\n",
       "      <td>9743794.36</td>\n",
       "      <td>7007191.64</td>\n",
       "      <td>2736602.72</td>\n",
       "    </tr>\n",
       "    <tr>\n",
       "      <th>1</th>\n",
       "      <td>33615</td>\n",
       "      <td>64313</td>\n",
       "      <td>1828984.89</td>\n",
       "      <td>8377308.52</td>\n",
       "      <td>6175313.91</td>\n",
       "      <td>2201994.61</td>\n",
       "    </tr>\n",
       "  </tbody>\n",
       "</table>\n",
       "</div>"
      ],
      "text/plain": [
       "  client_id     qty  shipping_price   line_price    line_cost  line_profit\n",
       "0     24741  239862      5126448.37  82268892.02  45688899.71  36579992.31\n",
       "2     38378   73667      3429455.40  12906550.87   9634720.98   3271829.89\n",
       "4     66037   43018      1395151.85  10259514.79   7004482.98   3255031.81\n",
       "3     46820   75768      1601448.84   9743794.36   7007191.64   2736602.72\n",
       "1     33615   64313      1828984.89   8377308.52   6175313.91   2201994.61"
      ]
     },
     "execution_count": 181,
     "metadata": {},
     "output_type": "execute_result"
    }
   ],
   "source": [
    "client_list = [33615, 66037, 46820, 38378, 24741]\n",
    "\n",
    "client_df = pd.pivot_table(df,values = ['qty','shipping_price','line_price','line_cost','line_profit'],index = 'client_id',aggfunc='sum')\n",
    "client_df = client_df[client_df.index.isin(client_list)]\n",
    "client_df.reset_index(inplace=True)\n",
    "\n",
    "client_df = client_df[['client_id','qty','shipping_price','line_price','line_cost','line_profit']]\n",
    "client_df.sort_values(by='line_profit',ascending=False)"
   ]
  },
  {
   "cell_type": "markdown",
   "id": "835dfc19-bd4b-41f6-834a-4b1772b37439",
   "metadata": {},
   "source": [
    "#### Format the data and rename the columns to names suitable for presentation.\n",
    "**Currency should be in millions of dollars**"
   ]
  },
  {
   "cell_type": "markdown",
   "id": "27a0289f-cc3b-4441-9377-5842ca3daf96",
   "metadata": {},
   "source": [
    "##### Renaming and sorting columns"
   ]
  },
  {
   "cell_type": "code",
   "execution_count": 182,
   "id": "7395b7fa-ef54-4104-8b64-3096429242cc",
   "metadata": {},
   "outputs": [],
   "source": [
    "rename_dict = {'client_id':'Client ID',\n",
    "               'qty':'Units',\n",
    "               'shipping_price':'Shipping',\n",
    "               'line_price':'Total Revenue',\n",
    "               'line_cost':'Total Cost',\n",
    "               'line_profit':'Total Profit'}\n",
    "\n",
    "client_df.rename(columns = rename_dict, inplace=True)\n",
    "\n",
    "client_df.sort_values(by='Total Profit',inplace = True,ascending=False)"
   ]
  },
  {
   "cell_type": "markdown",
   "id": "f2060633-c9c5-4a5d-b301-09726666cd82",
   "metadata": {},
   "source": [
    "##### Converting to millions"
   ]
  },
  {
   "cell_type": "code",
   "execution_count": 183,
   "id": "7df4c4b2-c988-40a1-b735-cdb71ace2b18",
   "metadata": {},
   "outputs": [],
   "source": [
    "def millions(amount):\n",
    "    m = 1000000\n",
    "    return f'{round(amount/m,2)}M'\n",
    "\n",
    "client_df['Shipping'] = client_df['Shipping'].apply(millions)\n",
    "client_df['Total Revenue'] = client_df['Total Revenue'].apply(millions)\n",
    "client_df['Total Cost'] = client_df['Total Cost'].apply(millions)\n",
    "client_df['Total Profit'] = client_df['Total Profit'].apply(millions)"
   ]
  },
  {
   "cell_type": "code",
   "execution_count": 184,
   "id": "b746d4c1-5fec-44dc-9cf2-f0c3877e092c",
   "metadata": {},
   "outputs": [
    {
     "data": {
      "text/html": [
       "<div>\n",
       "<style scoped>\n",
       "    .dataframe tbody tr th:only-of-type {\n",
       "        vertical-align: middle;\n",
       "    }\n",
       "\n",
       "    .dataframe tbody tr th {\n",
       "        vertical-align: top;\n",
       "    }\n",
       "\n",
       "    .dataframe thead th {\n",
       "        text-align: right;\n",
       "    }\n",
       "</style>\n",
       "<table border=\"1\" class=\"dataframe\">\n",
       "  <thead>\n",
       "    <tr style=\"text-align: right;\">\n",
       "      <th></th>\n",
       "      <th>Client ID</th>\n",
       "      <th>Units</th>\n",
       "      <th>Shipping</th>\n",
       "      <th>Total Revenue</th>\n",
       "      <th>Total Cost</th>\n",
       "      <th>Total Profit</th>\n",
       "    </tr>\n",
       "  </thead>\n",
       "  <tbody>\n",
       "    <tr>\n",
       "      <th>0</th>\n",
       "      <td>24741</td>\n",
       "      <td>239862</td>\n",
       "      <td>5.13M</td>\n",
       "      <td>82.27M</td>\n",
       "      <td>45.69M</td>\n",
       "      <td>36.58M</td>\n",
       "    </tr>\n",
       "    <tr>\n",
       "      <th>2</th>\n",
       "      <td>38378</td>\n",
       "      <td>73667</td>\n",
       "      <td>3.43M</td>\n",
       "      <td>12.91M</td>\n",
       "      <td>9.63M</td>\n",
       "      <td>3.27M</td>\n",
       "    </tr>\n",
       "    <tr>\n",
       "      <th>4</th>\n",
       "      <td>66037</td>\n",
       "      <td>43018</td>\n",
       "      <td>1.4M</td>\n",
       "      <td>10.26M</td>\n",
       "      <td>7.0M</td>\n",
       "      <td>3.26M</td>\n",
       "    </tr>\n",
       "    <tr>\n",
       "      <th>3</th>\n",
       "      <td>46820</td>\n",
       "      <td>75768</td>\n",
       "      <td>1.6M</td>\n",
       "      <td>9.74M</td>\n",
       "      <td>7.01M</td>\n",
       "      <td>2.74M</td>\n",
       "    </tr>\n",
       "    <tr>\n",
       "      <th>1</th>\n",
       "      <td>33615</td>\n",
       "      <td>64313</td>\n",
       "      <td>1.83M</td>\n",
       "      <td>8.38M</td>\n",
       "      <td>6.18M</td>\n",
       "      <td>2.2M</td>\n",
       "    </tr>\n",
       "  </tbody>\n",
       "</table>\n",
       "</div>"
      ],
      "text/plain": [
       "  Client ID   Units Shipping Total Revenue Total Cost Total Profit\n",
       "0     24741  239862    5.13M        82.27M     45.69M       36.58M\n",
       "2     38378   73667    3.43M        12.91M      9.63M        3.27M\n",
       "4     66037   43018     1.4M        10.26M       7.0M        3.26M\n",
       "3     46820   75768     1.6M         9.74M      7.01M        2.74M\n",
       "1     33615   64313    1.83M         8.38M      6.18M         2.2M"
      ]
     },
     "execution_count": 184,
     "metadata": {},
     "output_type": "execute_result"
    }
   ],
   "source": [
    "client_df"
   ]
  },
  {
   "cell_type": "markdown",
   "id": "db81d6db-85e6-4601-94d1-a3ebea1cdeb7",
   "metadata": {},
   "source": [
    "#### From Part-2\n",
    "**Do we know that this client spent the more money than client 66037?**<b>\n",
    "<b>From the rankings we can see the client 66307 is ranked #3 in total expenditures"
   ]
  },
  {
   "cell_type": "code",
   "execution_count": null,
   "id": "7102ca64-ec2c-4c0b-9556-508b68867d06",
   "metadata": {},
   "outputs": [],
   "source": []
  }
 ],
 "metadata": {
  "kernelspec": {
   "display_name": "Python 3 (ipykernel)",
   "language": "python",
   "name": "python3"
  },
  "language_info": {
   "codemirror_mode": {
    "name": "ipython",
    "version": 3
   },
   "file_extension": ".py",
   "mimetype": "text/x-python",
   "name": "python",
   "nbconvert_exporter": "python",
   "pygments_lexer": "ipython3",
   "version": "3.11.7"
  }
 },
 "nbformat": 4,
 "nbformat_minor": 5
}
